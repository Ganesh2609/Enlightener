{
 "cells": [
  {
   "cell_type": "code",
   "execution_count": 1,
   "id": "a45aab42",
   "metadata": {},
   "outputs": [],
   "source": [
    "from chatbot import Chatbot"
   ]
  },
  {
   "cell_type": "code",
   "execution_count": 2,
   "id": "d5650924",
   "metadata": {},
   "outputs": [
    {
     "name": "stderr",
     "output_type": "stream",
     "text": [
      "e:\\Work\\Projects\\Englightner\\Builds\\Build 2\\LLM Chatbot\\../Vector Database\\database_operations.py:32: LangChainDeprecationWarning: The class `OllamaEmbeddings` was deprecated in LangChain 0.3.1 and will be removed in 1.0.0. An updated version of the class exists in the :class:`~langchain-ollama package and should be used instead. To use it run `pip install -U :class:`~langchain-ollama` and import as `from :class:`~langchain_ollama import OllamaEmbeddings``.\n",
      "  self.embedding_model = OllamaEmbeddings(model=embedding_model)\n",
      "e:\\Work\\Projects\\Englightner\\Builds\\Build 2\\LLM Chatbot\\chatbot.py:23: LangChainDeprecationWarning: Please see the migration guide at: https://python.langchain.com/docs/versions/migrating_memory/\n",
      "  self.memory = ConversationBufferMemory(return_messages=True, memory_key=\"history\")\n"
     ]
    }
   ],
   "source": [
    "chat = Chatbot(user=\"Ganesh\", chat_name=\"chat_trial_1\")"
   ]
  },
  {
   "cell_type": "code",
   "execution_count": 3,
   "id": "436206d5",
   "metadata": {},
   "outputs": [
    {
     "name": "stdout",
     "output_type": "stream",
     "text": [
      "\n",
      "\n",
      "**The Concept of Unity**\n",
      "\n",
      "Unity encompasses the harmonious integration of diverse elements into a cohesive whole. It is not about uniformity but rather the celebration of differences while working together towards common objectives. Here are the key aspects:\n",
      "\n",
      "1. **Harmony Among Differences**: Unity involves bringing together various components, such as individuals or groups, each contributing their unique perspective to create something greater than the sum of its parts.\n",
      "\n",
      "2. **Respect and Understanding**: Essential for achieving unity, respect entails acknowledging diverse perspectives and beliefs. Tolerance plays a role here, allowing coexistence without necessarily agreeing on all points.\n",
      "\n",
      "3. **Shared Goals and Values**: A unifying force often stems from common objectives or values, such as environmental efforts to combat climate change, where diverse groups collaborate toward a shared goal.\n",
      "\n",
      "4. **Diversity Within Unity**: This concept emphasizes inclusion and respect for individuality while fostering collective purpose. It is seen in organizations that value diversity but unite around common missions.\n",
      "\n",
      "5. **Spiritual Dimension**: In some contexts, unity refers to a spiritual oneness, such as being connected with the universe or a higher power, transcending individual boundaries.\n",
      "\n",
      "6. **Challenges and Solutions**: Unity faces threats from prejudices, misunderstandings, and competition. Addressing these requires efforts in education, communication, and conflict resolution.\n",
      "\n",
      "7. **Application in Daily Life**: From personal relationships to global issues like pandemics, unity enables collective problem-solving and achievements beyond individual capabilities.\n",
      "\n",
      "In essence, unity is about collaboration, mutual respect, and working together towards a greater good, embracing diversity while striving for collective well-being."
     ]
    }
   ],
   "source": [
    "user_query = \"Explain the concept of unity\"\n",
    "response = chat.generate_chatbot_response(user_input=user_query, stream=True)  "
   ]
  },
  {
   "cell_type": "code",
   "execution_count": 4,
   "id": "177ca282",
   "metadata": {},
   "outputs": [],
   "source": [
    "user_query = \"Explain the personal growth part in more detail\"\n",
    "response = chat.generate_chatbot_response(user_input=user_query, stream=False)"
   ]
  },
  {
   "cell_type": "code",
   "execution_count": 5,
   "id": "e7ad9438",
   "metadata": {},
   "outputs": [
    {
     "name": "stdout",
     "output_type": "stream",
     "text": [
      "**Personal Growth in the Context of Unity: A Detailed Explanation**\n",
      "\n",
      "1. **Self-Awareness**: The journey towards personal growth begins with self-awareness. Understanding one's role within the larger framework of unity allows individuals to recognize their unique contributions and how they fit into the bigger picture. This awareness fosters a sense of purpose and connection.\n",
      "\n",
      "2. **Embracing Diversity**: Personal growth involves valuing diversity, both within oneself and others. By appreciating different perspectives, individuals can bridge gaps and work collaboratively towards common goals, enhancing unity through mutual respect and understanding.\n",
      "\n",
      "3. **Setting Shared Goals**: Aligning personal aspirations with shared objectives, such as environmental sustainability or social justice, encourages collective action. This alignment helps in transcending individual limits and achieving greater outcomes together.\n",
      "\n",
      "4. **Overcoming Challenges**: Growth often occurs when individuals face challenges that require them to adapt and evolve. Overcoming these obstacles strengthens resilience and the ability to contribute meaningfully to unified efforts.\n",
      "\n",
      "5. **Cultivating Love and Compassion**: Personal growth is enriched by nurturing love and compassion, which are vital for fostering unity. These qualities enable individuals to connect deeply with others, transcending differences and building stronger communities.\n",
      "\n",
      "6. **Practicing Gratitude**: Gratitude enhances personal well-being and appreciation for the interconnectedness of life. It encourages a mindset that sees value in diversity and unity, promoting a more harmonious existence.\n",
      "\n",
      "7. **Mindfulness and Presence**: Being present moment-to-moment cultivates awareness and openness to diverse experiences. This mindfulness is essential for maintaining unity by fostering attention to collective needs and fostering compassionate responses.\n",
      "\n",
      "8. **Continuous Learning**: Commitment to lifelong learning broadens perspectives and deepens understanding of diverse ideas and cultures. This knowledge is crucial for navigating complex issues with wisdom and contributing to unified solutions.\n",
      "\n",
      "9. **Spiritual Integration**: For those seeking a deeper connection, integrating spirituality into personal growth can provide guidance and purpose. It offers a sense of oneness with the universe, enhancing unity and providing inner peace amidst life's challenges.\n",
      "\n",
      "**Conclusion**: Personal growth within a framework of unity involves self-awareness, embracing diversity, setting shared goals, overcoming challenges, cultivating love, practicing gratitude, mindfulness, continuous learning, and spiritual integration. These elements collectively enhance individual well-being and contribute to a harmonious society, fostering collaboration and understanding that transcends differences.\n"
     ]
    }
   ],
   "source": [
    "print(response)"
   ]
  }
 ],
 "metadata": {
  "kernelspec": {
   "display_name": "EnlightnerRAG",
   "language": "python",
   "name": "python3"
  },
  "language_info": {
   "codemirror_mode": {
    "name": "ipython",
    "version": 3
   },
   "file_extension": ".py",
   "mimetype": "text/x-python",
   "name": "python",
   "nbconvert_exporter": "python",
   "pygments_lexer": "ipython3",
   "version": "3.12.9"
  }
 },
 "nbformat": 4,
 "nbformat_minor": 5
}
